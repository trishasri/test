{
 "cells": [
  {
   "cell_type": "code",
   "execution_count": 1,
   "id": "984d4e5e",
   "metadata": {},
   "outputs": [],
   "source": [
    "import pandas as pd"
   ]
  },
  {
   "cell_type": "code",
   "execution_count": 8,
   "id": "392f854d",
   "metadata": {},
   "outputs": [],
   "source": [
    "import numpy as np"
   ]
  },
  {
   "cell_type": "code",
   "execution_count": 2,
   "id": "b72caee7",
   "metadata": {},
   "outputs": [],
   "source": [
    "dataset = pd.read_excel(\"age_salary.xlsx\")"
   ]
  },
  {
   "cell_type": "code",
   "execution_count": 3,
   "id": "e34b606a",
   "metadata": {},
   "outputs": [
    {
     "name": "stdout",
     "output_type": "stream",
     "text": [
      "    Index  Years  Experience   Age  Salary\n",
      "0       0      1         1.1  21.0   39343\n",
      "1       1      2         1.3  21.5   39343\n",
      "2       2      3         1.5  21.0   39343\n",
      "3       3      4         2.0  21.5   39343\n",
      "4       4      5         2.2  21.0   39343\n",
      "5       5      6         2.9  21.5   39343\n",
      "6       6      7         3.0  21.0   39343\n",
      "7       7      8         3.2  21.5   39343\n",
      "8       8      9         1.1  21.0   39343\n",
      "9       9     10         1.3  21.5   39343\n",
      "10     10     11         1.5  21.0   39343\n",
      "11     11     12         2.0  21.5   39343\n",
      "12     12     13         2.2  21.0   39343\n",
      "13     13     14         2.9  21.5   39343\n",
      "14     14     15         3.0  21.0   39343\n",
      "15     15     16         3.2  21.5   39343\n",
      "16     16     17         3.0  21.0   39343\n"
     ]
    }
   ],
   "source": [
    "print(dataset)"
   ]
  },
  {
   "cell_type": "code",
   "execution_count": 4,
   "id": "2e90a0b8",
   "metadata": {},
   "outputs": [],
   "source": [
    "dataset=dataset.iloc[:,:-1].values"
   ]
  },
  {
   "cell_type": "code",
   "execution_count": 5,
   "id": "9ab59b28",
   "metadata": {},
   "outputs": [
    {
     "name": "stdout",
     "output_type": "stream",
     "text": [
      "[[ 0.   1.   1.1 21. ]\n",
      " [ 1.   2.   1.3 21.5]\n",
      " [ 2.   3.   1.5 21. ]\n",
      " [ 3.   4.   2.  21.5]\n",
      " [ 4.   5.   2.2 21. ]\n",
      " [ 5.   6.   2.9 21.5]\n",
      " [ 6.   7.   3.  21. ]\n",
      " [ 7.   8.   3.2 21.5]\n",
      " [ 8.   9.   1.1 21. ]\n",
      " [ 9.  10.   1.3 21.5]\n",
      " [10.  11.   1.5 21. ]\n",
      " [11.  12.   2.  21.5]\n",
      " [12.  13.   2.2 21. ]\n",
      " [13.  14.   2.9 21.5]\n",
      " [14.  15.   3.  21. ]\n",
      " [15.  16.   3.2 21.5]\n",
      " [16.  17.   3.  21. ]]\n"
     ]
    }
   ],
   "source": [
    "print(dataset)"
   ]
  },
  {
   "cell_type": "code",
   "execution_count": 10,
   "id": "e580435f",
   "metadata": {},
   "outputs": [
    {
     "name": "stdout",
     "output_type": "stream",
     "text": [
      "[[ 0.   1.   1.1 21. ]\n",
      " [ 1.   2.   1.3 21.5]\n",
      " [ 2.   3.   1.5 21. ]\n",
      " [ 3.   4.   2.  21.5]\n",
      " [ 4.   5.   2.2 21. ]\n",
      " [ 5.   6.   2.9 21.5]\n",
      " [ 6.   7.   3.  21. ]\n",
      " [ 7.   8.   3.2 21.5]\n",
      " [ 8.   9.   1.1 21. ]\n",
      " [ 9.  10.   1.3 21.5]\n",
      " [10.  11.   1.5 21. ]\n",
      " [11.  12.   2.  21.5]\n",
      " [12.  13.   2.2 21. ]\n",
      " [13.  14.   2.9 21.5]\n",
      " [14.  15.   3.  21. ]\n",
      " [15.  16.   3.2 21.5]\n",
      " [16.  17.   3.  21. ]]\n"
     ]
    }
   ],
   "source": [
    "import numpy as np\n",
    "from sklearn.impute import SimpleImputer\n",
    "imp=SimpleImputer(missing_values=np.nan,strategy=\"mean\")\n",
    "x=imp.fit_transform(dataset)\n",
    "print(dataset)"
   ]
  },
  {
   "cell_type": "code",
   "execution_count": null,
   "id": "a8ce7929",
   "metadata": {},
   "outputs": [],
   "source": [
    "\n",
    "\n"
   ]
  }
 ],
 "metadata": {
  "kernelspec": {
   "display_name": "Python 3 (ipykernel)",
   "language": "python",
   "name": "python3"
  },
  "language_info": {
   "codemirror_mode": {
    "name": "ipython",
    "version": 3
   },
   "file_extension": ".py",
   "mimetype": "text/x-python",
   "name": "python",
   "nbconvert_exporter": "python",
   "pygments_lexer": "ipython3",
   "version": "3.9.12"
  }
 },
 "nbformat": 4,
 "nbformat_minor": 5
}
